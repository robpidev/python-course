{
 "cells": [
  {
   "cell_type": "markdown",
   "metadata": {},
   "source": [
    "# Tema 1: Datos primitivos\n"
   ]
  },
  {
   "cell_type": "markdown",
   "metadata": {},
   "source": [
    "## 1. Tipo de dato Enteros ```(int)```\n",
    "Son tipos de datos que sirven para almacenar los números enteros"
   ]
  },
  {
   "cell_type": "code",
   "execution_count": 14,
   "metadata": {},
   "outputs": [
    {
     "name": "stdout",
     "output_type": "stream",
     "text": [
      "num1 es 30\n",
      "num2 tiene almacenado: 20\n",
      "La suma de num1 + num2 = 50\n",
      "La resta de num1 - num2 es: 10\n",
      "num1 = 30 , num2 = 20\n",
      "num1 = 30, num2 = 20\n",
      "la suma es = 50\n"
     ]
    }
   ],
   "source": [
    "num1 = 30\n",
    "num2 = 20\n",
    "\n",
    "print(\"num1 es\", num1)\n",
    "print(\"num2 tiene almacenado:\", num2)\n",
    "\n",
    "suma = num1 + num2\n",
    "\n",
    "print(\"La suma de num1 + num2 =\", suma)\n",
    "\n",
    "resta = num1 - num2\n",
    "print(\"La resta de num1 - num2 es:\", resta)\n",
    "\n",
    "# Imprimiendo variables al mismo tiempo\n",
    "print(\"num1 =\", num1, \", num2 =\", num2)\n",
    "\n",
    "# imprimiendo con format\n",
    "print(f\"{num1 = }, {num2 = }\")\n",
    "\n",
    "# operando directamente en el print\n",
    "print(f\"la suma es {num1 + num2}\")"
   ]
  },
  {
   "cell_type": "markdown",
   "metadata": {},
   "source": [
    "### Operaciones aritméticas con enteros"
   ]
  },
  {
   "cell_type": "code",
   "execution_count": 21,
   "metadata": {},
   "outputs": [
    {
     "name": "stdout",
     "output_type": "stream",
     "text": [
      "la suma es:  7\n",
      "La resta es: -3\n",
      "El producto es:  10\n",
      "El cosiente es:  0.4\n",
      "el modulo de b y a es:  1\n",
      "a^b = 32\n"
     ]
    }
   ],
   "source": [
    "a = 2\n",
    "b = 5\n",
    "\n",
    "# Sumar\n",
    "c = a + b\n",
    "print(\"la suma es: \", c)\n",
    "\n",
    "# Restar (reasignando el valor de c)\n",
    "c = a - b\n",
    "print(\"La resta es:\", c)\n",
    "\n",
    "# Multiplicando\n",
    "c = a * b\n",
    "print(\"El producto es: \", c)\n",
    "\n",
    "# La division es\n",
    "c = a / b\n",
    "print(\"El cosiente es: \", c)\n",
    "\n",
    "# Modulo: Sirve para calcular el residuo\n",
    "# D = q * d + r\n",
    "# D % q = r\n",
    "# ejem: 17 % 3 = 2\n",
    "\n",
    "# c <- 5 % 2 = 1\n",
    "c = b % a\n",
    "print(\"el modulo de b y a es: \", c)\n",
    "\n",
    "# Potencia 2^5 = 32\n",
    "c = a ** b\n",
    "print(\"a^b =\", c)"
   ]
  },
  {
   "cell_type": "markdown",
   "metadata": {},
   "source": [
    "## 2. Datos Flotates ```(float)```\n",
    "son datos que pueden almacenar numeros reales"
   ]
  },
  {
   "cell_type": "code",
   "execution_count": 31,
   "metadata": {},
   "outputs": [
    {
     "name": "stdout",
     "output_type": "stream",
     "text": [
      "Suma:  5.3\n",
      "sumando en el print 5.3\n",
      "Resta:  -0.7000000000000002\n",
      "Producto:  6.8999999999999995\n",
      "cociente:  0.7666666666666666\n",
      "modulo:  2.3\n",
      "potencia:  12.166999999999998\n",
      "sin redondear:  12.166999999999998\n",
      "Redondeando a entero:  12\n",
      "Redondeando a 3 cifras:  12.167\n",
      "sin redondear num2^num1 12.513502532843182\n",
      "redondeando redondear num2^num1 12.51\n"
     ]
    }
   ],
   "source": [
    "num1 = 2.3\n",
    "num2 = 3.0\n",
    "\n",
    "result = num1 + num2\n",
    "print(\"Suma: \", result)\n",
    "print(\"sumando en el print\", num1 + num2)\n",
    "\n",
    "print(\"Resta: \", num1 - num2)\n",
    "print(\"Producto: \", num1 * num2)\n",
    "print(\"cociente: \", num1 / num2)\n",
    "print(\"modulo: \", num1 % num2)\n",
    "print(\"potencia: \", num1 ** num2)\n",
    "\n",
    "# redondenado\n",
    "result = num1 ** num2\n",
    "print(\"sin redondear: \", result)\n",
    "\n",
    "result = round(num1 ** num2)\n",
    "print(\"Redondeando a entero: \", result)\n",
    "\n",
    "result = round(num1 ** num2, 3)\n",
    "print(\"Redondeando a 3 cifras: \", result)\n",
    "\n",
    "result = num2 ** num1\n",
    "print(\"sin redondear num2^num1\", result)\n",
    "\n",
    "result = round(result, 2)\n",
    "print(\"redondeando redondear num2^num1\", result)\n"
   ]
  },
  {
   "cell_type": "markdown",
   "metadata": {},
   "source": [
    "## 3. Cadena de caracteres (String) ```(str)```"
   ]
  },
  {
   "cell_type": "code",
   "execution_count": 50,
   "metadata": {},
   "outputs": [
    {
     "name": "stdout",
     "output_type": "stream",
     "text": [
      "my_cadena es:  Soy una cadena\n",
      "Nombre y apellido: Juan Perez\n",
      "El nombre completo es:  JuanPerez\n",
      "El nombre completo con espacio:  Juan Perez\n",
      "fruta5:  uvauvauvauvauva\n",
      "fruta_espacios:  uva*uva*uva*uva*uva*uva*uva*uva*uva*uva*\n",
      "la cantidad de letras de 'uva' es 3\n"
     ]
    }
   ],
   "source": [
    "my_char = \"Soy una cadena\"\n",
    "print(\"my_cadena es: \", my_char)\n",
    "\n",
    "nombre = \"Juan\"\n",
    "apellido = \"Perez\"\n",
    "\n",
    "#Imprimiendo variaas variables\n",
    "print(\"Nombre y apellido:\", nombre, apellido)\n",
    "\n",
    "# Concantenar (+ operador concatenar)\n",
    "nombre_completo = nombre + apellido\n",
    "print(\"El nombre completo es: \", nombre_completo)\n",
    "\n",
    "# agreando un espacio\n",
    "nombre_completo = nombre + \" \" + apellido\n",
    "print(\"El nombre completo con espacio: \", nombre_completo)\n",
    "\n",
    "# multiplicando strings\n",
    "fruta = \"uva\"\n",
    "\n",
    "fruta5 = fruta * 5\n",
    "print(\"fruta5: \", fruta5)\n",
    "\n",
    "fruta_espacios = (fruta + \"*\") * 10\n",
    "print(\"fruta_espacios: \", fruta_espacios)\n",
    "\n",
    "# Numero de caracteres de un string\n",
    "cantidad = len(fruta)\n",
    "\n",
    "print(f\"la cantidad de letras de '{fruta}' es {cantidad}\")"
   ]
  },
  {
   "cell_type": "markdown",
   "metadata": {},
   "source": [
    "## 4. Bool ```(bool)```\n",
    "Sirven para almacenar verdadero ```True``` o falso ```Talse```\n",
    "Operadores de tipo bool\n",
    "1. ```and``` operador logico \"y\"\n",
    "2. ```or``` operador logico \"o\"\n",
    "4. ```!, not``` negacion de ```~```\n",
    "\n",
    "\n",
    "Internamente ```True``` es ```1``` y ```False``` es ```0```"
   ]
  },
  {
   "cell_type": "code",
   "execution_count": 62,
   "metadata": {},
   "outputs": [
    {
     "name": "stdout",
     "output_type": "stream",
     "text": [
      "bool1 = True\n",
      "bool2 = False\n",
      "Negango bool1:  False\n",
      "Negando False:  True\n",
      "Enero de True: 1\n",
      "Enero de False: 0\n",
      "Sumando bools:  3\n"
     ]
    }
   ],
   "source": [
    "bool1 = True\n",
    "bool2 = False\n",
    "\n",
    "# Operaciones\n",
    "print(f\"{bool1 = }\")\n",
    "print(f\"{bool2 = }\")\n",
    "\n",
    "# Negacion\n",
    "print(\"Negango bool1: \", not bool1)\n",
    "print(\"Negando False: \", not False)\n",
    "\n",
    "print(\"Enero de True:\", int(True))\n",
    "print(\"Enero de False:\", int(False))\n",
    "\n",
    "# sumando bools\n",
    "print(\"Sumando bools: \", True + True + False + False + True)"
   ]
  },
  {
   "cell_type": "markdown",
   "metadata": {},
   "source": [
    "## 5. Obteniendo el tipo de dato de cualquier variable"
   ]
  },
  {
   "cell_type": "code",
   "execution_count": 66,
   "metadata": {},
   "outputs": [
    {
     "name": "stdout",
     "output_type": "stream",
     "text": [
      "El tipo de num1 es <class 'int'>\n",
      "El tipo de num2 es <class 'float'>\n",
      "El tipo de dato de nombre es:  <class 'str'>\n",
      "el tipo de dato de 'dato' es:  <class 'bool'>\n"
     ]
    }
   ],
   "source": [
    "num1 = 10\n",
    "num2 = 11.0\n",
    "nombre = \"Juan\"\n",
    "dato = True\n",
    "\n",
    "print(\"El tipo de num1 es\", type(num1))\n",
    "print(\"El tipo de num2 es\", type(num2))\n",
    "print(\"El tipo de dato de nombre es: \", type(nombre))\n",
    "print(\"el tipo de dato de 'dato' es: \", type(dato))"
   ]
  },
  {
   "cell_type": "markdown",
   "metadata": {},
   "source": [
    "## 6. Conviriendo datos"
   ]
  },
  {
   "cell_type": "code",
   "execution_count": 83,
   "metadata": {},
   "outputs": [
    {
     "name": "stdout",
     "output_type": "stream",
     "text": [
      "el tipo de num2 es:  <class 'float'>\n",
      "La parte entera de num1 es:  10\n",
      "el tipo de num1_str es:  <class 'str'>\n",
      "int de @:  64\n",
      "carcater de 64 @\n"
     ]
    }
   ],
   "source": [
    "# De entero a flotante\n",
    "num1 = 10\n",
    "num2 = float(num1)\n",
    "print(\"el tipo de num2 es: \", type(num2))\n",
    "\n",
    "# De flotante a entero\n",
    "num1 = 10.8\n",
    "num2 = int(num1)\n",
    "print(\"La parte entera de num1 es: \", num2)\n",
    "\n",
    "# numero a estring\n",
    "num1_str = str(num1)\n",
    "\n",
    "print(\"el tipo de num1_str es: \", type(num1_str))\n",
    "\n",
    "# caracter a int\n",
    "num1 = ord('@')\n",
    "print(\"int de @: \", num1)\n",
    "\n",
    "arroba = chr(64)\n",
    "print(\"carcater de 64: \", arroba)"
   ]
  }
 ],
 "metadata": {
  "kernelspec": {
   "display_name": "Python 3.11.0 64-bit",
   "language": "python",
   "name": "python3"
  },
  "language_info": {
   "codemirror_mode": {
    "name": "ipython",
    "version": 3
   },
   "file_extension": ".py",
   "mimetype": "text/x-python",
   "name": "python",
   "nbconvert_exporter": "python",
   "pygments_lexer": "ipython3",
   "version": "3.11.0"
  },
  "orig_nbformat": 4,
  "vscode": {
   "interpreter": {
    "hash": "4414ab3fa645459a18078d93f635be5c1c61c39049c80e05cbb021e8675889b3"
   }
  }
 },
 "nbformat": 4,
 "nbformat_minor": 2
}
